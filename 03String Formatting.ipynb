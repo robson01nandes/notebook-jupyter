{
 "cells": [
  {
   "cell_type": "code",
   "execution_count": 1,
   "metadata": {
    "collapsed": false
   },
   "outputs": [
    {
     "name": "stdout",
     "output_type": "stream",
     "text": [
      "vou inserir alguma coisa aqui\n"
     ]
    }
   ],
   "source": [
    "print(\"vou inserir %s aqui\" % \"alguma coisa\")"
   ]
  },
  {
   "cell_type": "code",
   "execution_count": 2,
   "metadata": {
    "collapsed": false
   },
   "outputs": [
    {
     "ename": "TypeError",
     "evalue": "not enough arguments for format string",
     "output_type": "error",
     "traceback": [
      "\u001b[0;31m---------------------------------------------------------------------------\u001b[0m",
      "\u001b[0;31mTypeError\u001b[0m                                 Traceback (most recent call last)",
      "\u001b[0;32m<ipython-input-2-fa862b82e9ce>\u001b[0m in \u001b[0;36m<module>\u001b[0;34m()\u001b[0m\n\u001b[0;32m----> 1\u001b[0;31m \u001b[0mprint\u001b[0m\u001b[1;33m(\u001b[0m\u001b[1;34m\"vou inserir %s aqui e %s e %s \"\u001b[0m \u001b[1;33m%\u001b[0m \u001b[1;34m\"alguma coisa\"\u001b[0m\u001b[1;33m,\u001b[0m \u001b[1;34m'outra coisa '\u001b[0m\u001b[1;33m,\u001b[0m\u001b[1;34m'e mais uma coisa'\u001b[0m\u001b[1;33m)\u001b[0m\u001b[1;33m\u001b[0m\u001b[0m\n\u001b[0m",
      "\u001b[0;31mTypeError\u001b[0m: not enough arguments for format string"
     ]
    }
   ],
   "source": [
    "print(\"vou inserir %s aqui e %s e %s \" % \"alguma coisa\", 'outra coisa ','e mais uma coisa')\n"
   ]
  },
  {
   "cell_type": "code",
   "execution_count": 3,
   "metadata": {
    "collapsed": false
   },
   "outputs": [
    {
     "name": "stdout",
     "output_type": "stream",
     "text": [
      "vou inserir alguma coisa aqui e outra coisa  e e mais uma coisa \n"
     ]
    }
   ],
   "source": [
    "print(\"vou inserir %s aqui e %s e %s \" %( \"alguma coisa\", 'outra coisa ','e mais uma coisa'))"
   ]
  },
  {
   "cell_type": "code",
   "execution_count": 4,
   "metadata": {
    "collapsed": false
   },
   "outputs": [
    {
     "name": "stdout",
     "output_type": "stream",
     "text": [
      "vou inserir alguma coisa aqui e outra coisa e mais uma coisa. \n"
     ]
    }
   ],
   "source": [
    "x= \"alguma coisa\"\n",
    "y= \"outra coisa\"\n",
    "z= \"mais uma coisa\"\n",
    "print(\"vou inserir %s aqui e %s e %s. \" %( x,y,z))"
   ]
  },
  {
   "cell_type": "code",
   "execution_count": 5,
   "metadata": {
    "collapsed": false
   },
   "outputs": [
    {
     "name": "stdout",
     "output_type": "stream",
     "text": [
      "número desima: 13.14\n"
     ]
    }
   ],
   "source": [
    "print(\"número desima: %5.2f\" %13.144)"
   ]
  },
  {
   "cell_type": "code",
   "execution_count": 6,
   "metadata": {
    "collapsed": false
   },
   "outputs": [
    {
     "name": "stdout",
     "output_type": "stream",
     "text": [
      "número desima: 13\n"
     ]
    }
   ],
   "source": [
    "print(\"número desima: %1.0f\" %13.144)"
   ]
  },
  {
   "cell_type": "code",
   "execution_count": 7,
   "metadata": {
    "collapsed": false
   },
   "outputs": [
    {
     "name": "stdout",
     "output_type": "stream",
     "text": [
      "número desima: 13.14400\n"
     ]
    }
   ],
   "source": [
    "print(\"número desima: %1.5f\" %13.144)"
   ]
  },
  {
   "cell_type": "code",
   "execution_count": 8,
   "metadata": {
    "collapsed": false
   },
   "outputs": [
    {
     "name": "stdout",
     "output_type": "stream",
     "text": [
      "número desima:      13.14\n"
     ]
    }
   ],
   "source": [
    "print(\"número desima: %10.2f\" %13.144)"
   ]
  },
  {
   "cell_type": "code",
   "execution_count": 9,
   "metadata": {
    "collapsed": false
   },
   "outputs": [
    {
     "name": "stdout",
     "output_type": "stream",
     "text": [
      "primeiro olá\n",
      "segundo: 3.14\n",
      "terceiro:  500\n"
     ]
    }
   ],
   "source": [
    "print(\"primeiro %s\\nsegundo:%5.2f\\nterceiro:%5d\" % ('olá',3.14,500))"
   ]
  },
  {
   "cell_type": "code",
   "execution_count": 10,
   "metadata": {
    "collapsed": false
   },
   "outputs": [
    {
     "name": "stdout",
     "output_type": "stream",
     "text": [
      "primeiro: olá\n",
      "segundo:  3.1415nterceiro: 500\n"
     ]
    }
   ],
   "source": [
    "print(\"primeiro: \" \"olá\" + \"\\nsegundo:  \" +str(3.1415) + \"nterceiro: \" +str(500))"
   ]
  },
  {
   "cell_type": "code",
   "execution_count": 12,
   "metadata": {
    "collapsed": false
   },
   "outputs": [
    {
     "name": "stdout",
     "output_type": "stream",
     "text": [
      "vou inserir `alguma coisa aqui ,\n"
     ]
    }
   ],
   "source": [
    "print (\"vou inserir `{} aqui ,\". format('alguma coisa'))"
   ]
  },
  {
   "cell_type": "code",
   "execution_count": 13,
   "metadata": {
    "collapsed": false
   },
   "outputs": [
    {
     "name": "stdout",
     "output_type": "stream",
     "text": [
      "vou inserir `alguma coisa aqui e mais uma coisa e ultima coisa ,\n"
     ]
    }
   ],
   "source": [
    "print (\"vou inserir `{} aqui e {} e {} ,\". format('alguma coisa','mais uma coisa', 'ultima coisa'))"
   ]
  },
  {
   "cell_type": "code",
   "execution_count": 14,
   "metadata": {
    "collapsed": false
   },
   "outputs": [
    {
     "name": "stdout",
     "output_type": "stream",
     "text": [
      "vou inserir `alguma coisa aqui e mais uma coisa e ultima coisa ,\n"
     ]
    }
   ],
   "source": [
    "print (\"vou inserir `{0} aqui e {1} e {2} ,\". format('alguma coisa','mais uma coisa', 'ultima coisa'))"
   ]
  },
  {
   "cell_type": "code",
   "execution_count": 15,
   "metadata": {
    "collapsed": false
   },
   "outputs": [
    {
     "name": "stdout",
     "output_type": "stream",
     "text": [
      "vou inserir `ultima coisa aqui e mais uma coisa e alguma coisa ,\n"
     ]
    }
   ],
   "source": [
    "print (\"vou inserir `{2} aqui e {1} e {0} ,\". format('alguma coisa','mais uma coisa', 'ultima coisa'))"
   ]
  },
  {
   "cell_type": "code",
   "execution_count": 16,
   "metadata": {
    "collapsed": false
   },
   "outputs": [
    {
     "ename": "SyntaxError",
     "evalue": "invalid syntax (<ipython-input-16-224a76c35f7c>, line 1)",
     "output_type": "error",
     "traceback": [
      "\u001b[0;36m  File \u001b[0;32m\"<ipython-input-16-224a76c35f7c>\"\u001b[0;36m, line \u001b[0;32m1\u001b[0m\n\u001b[0;31m    print('{0:8} | {1:9}' ).format(fruta, quantidade))\u001b[0m\n\u001b[0m                                                     ^\u001b[0m\n\u001b[0;31mSyntaxError\u001b[0m\u001b[0;31m:\u001b[0m invalid syntax\n"
     ]
    }
   ],
   "source": [
    "print('{0:8} | {1:9}' ).format(fruta, quantidade))\n",
    "print('{0:8} | {1:9}' ).format(maça, 3.))\n",
    "print('{0:8} | {1:9}' ).format(Laranja, 10))"
   ]
  },
  {
   "cell_type": "code",
   "execution_count": 17,
   "metadata": {
    "collapsed": false
   },
   "outputs": [
    {
     "ename": "NameError",
     "evalue": "name 'fruta' is not defined",
     "output_type": "error",
     "traceback": [
      "\u001b[0;31m---------------------------------------------------------------------------\u001b[0m",
      "\u001b[0;31mNameError\u001b[0m                                 Traceback (most recent call last)",
      "\u001b[0;32m<ipython-input-17-aaff2478801a>\u001b[0m in \u001b[0;36m<module>\u001b[0;34m()\u001b[0m\n\u001b[0;32m----> 1\u001b[0;31m \u001b[0mprint\u001b[0m\u001b[1;33m(\u001b[0m\u001b[1;34m'{0:8} | {1:9}'\u001b[0m \u001b[1;33m.\u001b[0m\u001b[0mformat\u001b[0m\u001b[1;33m(\u001b[0m\u001b[0mfruta\u001b[0m\u001b[1;33m,\u001b[0m \u001b[0mquantidade\u001b[0m\u001b[1;33m)\u001b[0m\u001b[1;33m)\u001b[0m\u001b[1;33m\u001b[0m\u001b[0m\n\u001b[0m\u001b[1;32m      2\u001b[0m \u001b[0mprint\u001b[0m\u001b[1;33m(\u001b[0m\u001b[1;34m'{0:8} | {1:9}'\u001b[0m \u001b[1;33m.\u001b[0m\u001b[0mformat\u001b[0m\u001b[1;33m(\u001b[0m\u001b[0mmaça\u001b[0m\u001b[1;33m,\u001b[0m \u001b[1;36m3.\u001b[0m\u001b[1;33m)\u001b[0m\u001b[1;33m)\u001b[0m\u001b[1;33m\u001b[0m\u001b[0m\n\u001b[1;32m      3\u001b[0m print('{0:8} | {1:9}' \n\u001b[1;32m      4\u001b[0m       .format(Laranja, 10))\n",
      "\u001b[0;31mNameError\u001b[0m: name 'fruta' is not defined"
     ]
    }
   ],
   "source": [
    "print('{0:8} | {1:9}' .format(fruta, quantidade))\n",
    "print('{0:8} | {1:9}' .format(maça, 3.))\n",
    "print('{0:8} | {1:9}' \n",
    "      .format(Laranja, 10))"
   ]
  },
  {
   "cell_type": "code",
   "execution_count": 18,
   "metadata": {
    "collapsed": false
   },
   "outputs": [
    {
     "ename": "NameError",
     "evalue": "name 'fruta' is not defined",
     "output_type": "error",
     "traceback": [
      "\u001b[0;31m---------------------------------------------------------------------------\u001b[0m",
      "\u001b[0;31mNameError\u001b[0m                                 Traceback (most recent call last)",
      "\u001b[0;32m<ipython-input-18-9ee28a9f5f4f>\u001b[0m in \u001b[0;36m<module>\u001b[0;34m()\u001b[0m\n\u001b[0;32m----> 1\u001b[0;31m \u001b[0mprint\u001b[0m\u001b[1;33m(\u001b[0m\u001b[1;34m'{0:8} | {1:9}'\u001b[0m\u001b[1;33m.\u001b[0m\u001b[0mformat\u001b[0m\u001b[1;33m(\u001b[0m\u001b[0mfruta\u001b[0m\u001b[1;33m,\u001b[0m \u001b[0mquantidade\u001b[0m\u001b[1;33m)\u001b[0m\u001b[1;33m)\u001b[0m\u001b[1;33m\u001b[0m\u001b[0m\n\u001b[0m\u001b[1;32m      2\u001b[0m \u001b[0mprint\u001b[0m\u001b[1;33m(\u001b[0m\u001b[1;34m'{0:8} | {1:9}'\u001b[0m\u001b[1;33m.\u001b[0m\u001b[0mformat\u001b[0m\u001b[1;33m(\u001b[0m\u001b[0mmaça\u001b[0m\u001b[1;33m,\u001b[0m \u001b[1;36m3.\u001b[0m\u001b[1;33m)\u001b[0m\u001b[1;33m)\u001b[0m\u001b[1;33m\u001b[0m\u001b[0m\n\u001b[1;32m      3\u001b[0m \u001b[0mprint\u001b[0m\u001b[1;33m(\u001b[0m\u001b[1;34m'{0:8} | {1:9}'\u001b[0m\u001b[1;33m.\u001b[0m\u001b[0mformat\u001b[0m\u001b[1;33m(\u001b[0m\u001b[0mLaranja\u001b[0m\u001b[1;33m,\u001b[0m \u001b[1;36m10\u001b[0m\u001b[1;33m)\u001b[0m\u001b[1;33m)\u001b[0m\u001b[1;33m\u001b[0m\u001b[0m\n",
      "\u001b[0;31mNameError\u001b[0m: name 'fruta' is not defined"
     ]
    }
   ],
   "source": [
    "print('{0:8} | {1:9}'.format(fruta, quantidade))\n",
    "print('{0:8} | {1:9}'.format(maça, 3.))\n",
    "print('{0:8} | {1:9}'.format(Laranja, 10))"
   ]
  },
  {
   "cell_type": "code",
   "execution_count": 19,
   "metadata": {
    "collapsed": false
   },
   "outputs": [
    {
     "name": "stdout",
     "output_type": "stream",
     "text": [
      "fruta    | quantidade\n",
      "---------- | ----------\n",
      "maça     |       3.0\n",
      "Laranja  |        10\n"
     ]
    }
   ],
   "source": [
    "print('{0:8} | {1:9}'.format('fruta', 'quantidade'))\n",
    "print('{0:8} | {1:9}'.format('----------', '----------'))\n",
    "print('{0:8} | {1:9}'.format('maça', 3.))\n",
    "print('{0:8} | {1:9}'.format('Laranja', 10))"
   ]
  },
  {
   "cell_type": "code",
   "execution_count": 20,
   "metadata": {
    "collapsed": false
   },
   "outputs": [
    {
     "name": "stdout",
     "output_type": "stream",
     "text": [
      "lefr     | center   | (2:>8)\n"
     ]
    }
   ],
   "source": [
    "print('{0:<8} | {1:8} | (2:>8)'.format('lefr', 'center', 'hight'))"
   ]
  },
  {
   "cell_type": "code",
   "execution_count": 21,
   "metadata": {
    "collapsed": false
   },
   "outputs": [
    {
     "name": "stdout",
     "output_type": "stream",
     "text": [
      "lefr     | center   | (2:.>8)\n"
     ]
    }
   ],
   "source": [
    "print('{0:<8} | {1:8} | {2:.>8}'.format('lefr', 'center', 'hight'))"
   ]
  },
  {
   "cell_type": "code",
   "execution_count": 22,
   "metadata": {
    "collapsed": false
   },
   "outputs": [
    {
     "name": "stdout",
     "output_type": "stream",
     "text": [
      "lefr     | center   |    hight\n"
     ]
    }
   ],
   "source": [
    "print('{0:<8} | {1:8} | {2:>8}'.format('lefr', 'center', 'hight'))"
   ]
  },
  {
   "cell_type": "code",
   "execution_count": 23,
   "metadata": {
    "collapsed": false
   },
   "outputs": [
    {
     "name": "stdout",
     "output_type": "stream",
     "text": [
      "lefr     | center   |    hight\n",
      "10       |       20 |       30\n"
     ]
    }
   ],
   "source": [
    "print('{0:<8} | {1:8} | {2:>8}'.format('lefr', 'center', 'hight'))\n",
    "print('{0:<8} | {1:8} | {2:>8}'.format(10 , 20, 30))"
   ]
  },
  {
   "cell_type": "code",
   "execution_count": null,
   "metadata": {
    "collapsed": true
   },
   "outputs": [],
   "source": []
  }
 ],
 "metadata": {
  "kernelspec": {
   "display_name": "Python 3",
   "language": "python",
   "name": "python3"
  },
  "language_info": {
   "codemirror_mode": {
    "name": "ipython",
    "version": 3
   },
   "file_extension": ".py",
   "mimetype": "text/x-python",
   "name": "python",
   "nbconvert_exporter": "python",
   "pygments_lexer": "ipython3",
   "version": "3.6.0"
  }
 },
 "nbformat": 4,
 "nbformat_minor": 2
}
